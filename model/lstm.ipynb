{
 "cells": [
  {
   "cell_type": "code",
   "execution_count": 100,
   "metadata": {},
   "outputs": [],
   "source": [
    "import glob\n",
    "import pickle\n",
    "import numpy\n",
    "import os\n",
    "from music21 import converter\n",
    "from music21 import instrument\n",
    "from music21 import note\n",
    "from music21 import chord\n",
    "from music21 import stream\n",
    "from keras.models import Sequential\n",
    "from keras.layers import Dense\n",
    "from keras.layers import Dropout\n",
    "from keras.layers import LSTM\n",
    "from keras.layers import Activation\n",
    "from keras.utils import np_utils\n",
    "from keras.callbacks import ModelCheckpoint\n",
    "from midi2audio import FluidSynth"
   ]
  },
  {
   "cell_type": "code",
   "execution_count": 76,
   "metadata": {},
   "outputs": [
    {
     "name": "stdout",
     "output_type": "stream",
     "text": [
      "c:\\Users\\Danil\\Documents\\GitHub\\LSTM-music-gen\\model\n"
     ]
    }
   ],
   "source": [
    "# printing the current working directory\n",
    "print(os.getcwd())"
   ]
  },
  {
   "attachments": {},
   "cell_type": "markdown",
   "metadata": {},
   "source": [
    "# **Training The Model**"
   ]
  },
  {
   "attachments": {},
   "cell_type": "markdown",
   "metadata": {},
   "source": [
    "### The midi files in the directory are dissected into notes and chords and then agregated into a single file in string fromat "
   ]
  },
  {
   "cell_type": "code",
   "execution_count": 60,
   "metadata": {},
   "outputs": [
    {
     "name": "stdout",
     "output_type": "stream",
     "text": [
      "Parsing c:/Users/Danil/Documents/GitHub/LSTM-music-gen/data\\80sPop(Medley).mid\n",
      "Parsing c:/Users/Danil/Documents/GitHub/LSTM-music-gen/data\\ActionRadar.mid\n",
      "Parsing c:/Users/Danil/Documents/GitHub/LSTM-music-gen/data\\Aerodynamic.mid\n",
      "Parsing c:/Users/Danil/Documents/GitHub/LSTM-music-gen/data\\AllAround.mid\n",
      "Parsing c:/Users/Danil/Documents/GitHub/LSTM-music-gen/data\\AllFallsDown.mid\n",
      "Parsing c:/Users/Danil/Documents/GitHub/LSTM-music-gen/data\\ANeverendingDream.mid\n",
      "Parsing c:/Users/Danil/Documents/GitHub/LSTM-music-gen/data\\AnotherRace.mid\n",
      "Parsing c:/Users/Danil/Documents/GitHub/LSTM-music-gen/data\\ArmyOfMe.mid\n",
      "Parsing c:/Users/Danil/Documents/GitHub/LSTM-music-gen/data\\AroundTheWorld(2).mid\n",
      "Parsing c:/Users/Danil/Documents/GitHub/LSTM-music-gen/data\\AroundTheWorld.mid\n",
      "Parsing c:/Users/Danil/Documents/GitHub/LSTM-music-gen/data\\Aurora.mid\n",
      "Parsing c:/Users/Danil/Documents/GitHub/LSTM-music-gen/data\\AxelF.mid\n",
      "Parsing c:/Users/Danil/Documents/GitHub/LSTM-music-gen/data\\BabysGotATemper.mid\n",
      "Parsing c:/Users/Danil/Documents/GitHub/LSTM-music-gen/data\\BabyWhenTheLight.mid\n",
      "Parsing c:/Users/Danil/Documents/GitHub/LSTM-music-gen/data\\Bachelorette.mid\n",
      "Parsing c:/Users/Danil/Documents/GitHub/LSTM-music-gen/data\\BackInTime.mid\n",
      "Parsing c:/Users/Danil/Documents/GitHub/LSTM-music-gen/data\\BackToMyOldSmokyMountains (1).mid\n",
      "Parsing c:/Users/Danil/Documents/GitHub/LSTM-music-gen/data\\BackToMyOldSmokyMountains.mid\n",
      "Parsing c:/Users/Danil/Documents/GitHub/LSTM-music-gen/data\\BigTimeSinsuality.mid\n",
      "Parsing c:/Users/Danil/Documents/GitHub/LSTM-music-gen/data\\Blue.mid\n",
      "Parsing c:/Users/Danil/Documents/GitHub/LSTM-music-gen/data\\Breathe.mid\n",
      "Parsing c:/Users/Danil/Documents/GitHub/LSTM-music-gen/data\\ChampagneShowers.mid\n",
      "Parsing c:/Users/Danil/Documents/GitHub/LSTM-music-gen/data\\Charly.mid\n",
      "Parsing c:/Users/Danil/Documents/GitHub/LSTM-music-gen/data\\Climbatized.mid\n",
      "Parsing c:/Users/Danil/Documents/GitHub/LSTM-music-gen/data\\Cocoon.mid\n",
      "Parsing c:/Users/Danil/Documents/GitHub/LSTM-music-gen/data\\ComeToMe.mid\n",
      "Parsing c:/Users/Danil/Documents/GitHub/LSTM-music-gen/data\\ComeToMeRemix.mid\n",
      "Parsing c:/Users/Danil/Documents/GitHub/LSTM-music-gen/data\\Contact.mid\n",
      "Parsing c:/Users/Danil/Documents/GitHub/LSTM-music-gen/data\\CosaRestera.mid\n",
      "Parsing c:/Users/Danil/Documents/GitHub/LSTM-music-gen/data\\CowboyFromHell.mid\n",
      "Parsing c:/Users/Danil/Documents/GitHub/LSTM-music-gen/data\\Crying.mid\n",
      "Parsing c:/Users/Danil/Documents/GitHub/LSTM-music-gen/data\\DaFunk.mid\n",
      "Parsing c:/Users/Danil/Documents/GitHub/LSTM-music-gen/data\\Delirious.mid\n",
      "Parsing c:/Users/Danil/Documents/GitHub/LSTM-music-gen/data\\Derezzed.mid\n",
      "Parsing c:/Users/Danil/Documents/GitHub/LSTM-music-gen/data\\DiamondHeart(2).mid\n",
      "Parsing c:/Users/Danil/Documents/GitHub/LSTM-music-gen/data\\DigitalLove(2).mid\n",
      "Parsing c:/Users/Danil/Documents/GitHub/LSTM-music-gen/data\\DigitalLove.mid\n",
      "Parsing c:/Users/Danil/Documents/GitHub/LSTM-music-gen/data\\Dream.mid\n",
      "Parsing c:/Users/Danil/Documents/GitHub/LSTM-music-gen/data\\Drezzed.mid\n",
      "Parsing c:/Users/Danil/Documents/GitHub/LSTM-music-gen/data\\DubInLife.mid\n",
      "Parsing c:/Users/Danil/Documents/GitHub/LSTM-music-gen/data\\EndofLine.mid\n",
      "Parsing c:/Users/Danil/Documents/GitHub/LSTM-music-gen/data\\Enjoy.mid\n",
      "Parsing c:/Users/Danil/Documents/GitHub/LSTM-music-gen/data\\EvacuateTheDancefloor.mid\n",
      "Parsing c:/Users/Danil/Documents/GitHub/LSTM-music-gen/data\\Everybody.mid\n",
      "Parsing c:/Users/Danil/Documents/GitHub/LSTM-music-gen/data\\EverytimeWeTouch.mid\n",
      "Parsing c:/Users/Danil/Documents/GitHub/LSTM-music-gen/data\\Faded.mid\n",
      "Parsing c:/Users/Danil/Documents/GitHub/LSTM-music-gen/data\\FadeIntoDarkness.mid\n",
      "Parsing c:/Users/Danil/Documents/GitHub/LSTM-music-gen/data\\FeelSoClose.mid\n",
      "Parsing c:/Users/Danil/Documents/GitHub/LSTM-music-gen/data\\FeelTheBeat.mid\n",
      "Parsing c:/Users/Danil/Documents/GitHub/LSTM-music-gen/data\\FeelThisMoment(ftChristinaAguilera).mid\n",
      "Parsing c:/Users/Danil/Documents/GitHub/LSTM-music-gen/data\\FlyAway.mid\n",
      "Parsing c:/Users/Danil/Documents/GitHub/LSTM-music-gen/data\\FlynnLives.mid\n",
      "Parsing c:/Users/Danil/Documents/GitHub/LSTM-music-gen/data\\Freedom.mid\n",
      "Parsing c:/Users/Danil/Documents/GitHub/LSTM-music-gen/data\\GenerousPalmstroke.mid\n",
      "Parsing c:/Users/Danil/Documents/GitHub/LSTM-music-gen/data\\GetluckyfeatPharrellWilliams.mid\n",
      "Parsing c:/Users/Danil/Documents/GitHub/LSTM-music-gen/data\\GiorgiobyMoroder.mid\n",
      "Parsing c:/Users/Danil/Documents/GitHub/LSTM-music-gen/data\\Girls.mid\n",
      "Parsing c:/Users/Danil/Documents/GitHub/LSTM-music-gen/data\\GiveMeEverything.mid\n",
      "Parsing c:/Users/Danil/Documents/GitHub/LSTM-music-gen/data\\Glora.mid\n",
      "Parsing c:/Users/Danil/Documents/GitHub/LSTM-music-gen/data\\GoingOutOfMyHead.mid\n",
      "Parsing c:/Users/Danil/Documents/GitHub/LSTM-music-gen/data\\HarderBetterFasterStronger.mid\n",
      "Parsing c:/Users/Danil/Documents/GitHub/LSTM-music-gen/data\\Heybrother(2).mid\n",
      "Parsing c:/Users/Danil/Documents/GitHub/LSTM-music-gen/data\\HeyBrother.mid\n",
      "Parsing c:/Users/Danil/Documents/GitHub/LSTM-music-gen/data\\Hotride.mid\n",
      "Parsing c:/Users/Danil/Documents/GitHub/LSTM-music-gen/data\\HumanAfterAll.mid\n",
      "Parsing c:/Users/Danil/Documents/GitHub/LSTM-music-gen/data\\HumanBehavior.mid\n",
      "Parsing c:/Users/Danil/Documents/GitHub/LSTM-music-gen/data\\HyperBallad.mid\n",
      "Parsing c:/Users/Danil/Documents/GitHub/LSTM-music-gen/data\\IKnowYouWantMe.mid\n",
      "Parsing c:/Users/Danil/Documents/GitHub/LSTM-music-gen/data\\INeedYourLove.mid\n",
      "Parsing c:/Users/Danil/Documents/GitHub/LSTM-music-gen/data\\InternationalLove.mid\n",
      "Parsing c:/Users/Danil/Documents/GitHub/LSTM-music-gen/data\\ItsMyLife.mid\n",
      "Parsing c:/Users/Danil/Documents/GitHub/LSTM-music-gen/data\\ItsOhSoQuite.mid\n",
      "Parsing c:/Users/Danil/Documents/GitHub/LSTM-music-gen/data\\Joga2.mid\n",
      "Parsing c:/Users/Danil/Documents/GitHub/LSTM-music-gen/data\\LetTheDreamComeTrue.mid\n",
      "Parsing c:/Users/Danil/Documents/GitHub/LSTM-music-gen/data\\Levels.mid\n",
      "Parsing c:/Users/Danil/Documents/GitHub/LSTM-music-gen/data\\LoveDontLetMeGo.mid\n",
      "Parsing c:/Users/Danil/Documents/GitHub/LSTM-music-gen/data\\LoveGeneration.mid\n",
      "Parsing c:/Users/Danil/Documents/GitHub/LSTM-music-gen/data\\LoveIsAllAround.mid\n",
      "Parsing c:/Users/Danil/Documents/GitHub/LSTM-music-gen/data\\LoveIsGone.mid\n",
      "Parsing c:/Users/Danil/Documents/GitHub/LSTM-music-gen/data\\LoversOnTheSon.mid\n",
      "Parsing c:/Users/Danil/Documents/GitHub/LSTM-music-gen/data\\LuckyInMyLife.mid\n",
      "Parsing c:/Users/Danil/Documents/GitHub/LSTM-music-gen/data\\MedusasPath.mid\n",
      "Parsing c:/Users/Danil/Documents/GitHub/LSTM-music-gen/data\\Memories.mid\n",
      "Parsing c:/Users/Danil/Documents/GitHub/LSTM-music-gen/data\\Mindfields.mid\n",
      "Parsing c:/Users/Danil/Documents/GitHub/LSTM-music-gen/data\\Miracle.mid\n",
      "Parsing c:/Users/Danil/Documents/GitHub/LSTM-music-gen/data\\Money.mid\n",
      "Parsing c:/Users/Danil/Documents/GitHub/LSTM-music-gen/data\\MoveYouBody.mid\n",
      "Parsing c:/Users/Danil/Documents/GitHub/LSTM-music-gen/data\\MyConsole.mid\n",
      "Parsing c:/Users/Danil/Documents/GitHub/LSTM-music-gen/data\\Narayan.mid\n",
      "Parsing c:/Users/Danil/Documents/GitHub/LSTM-music-gen/data\\NoGood.mid\n",
      "Parsing c:/Users/Danil/Documents/GitHub/LSTM-music-gen/data\\OhLaLaLa.mid\n",
      "Parsing c:/Users/Danil/Documents/GitHub/LSTM-music-gen/data\\OhSoQuiet.mid\n",
      "Parsing c:/Users/Danil/Documents/GitHub/LSTM-music-gen/data\\OneLove.mid\n",
      "Parsing c:/Users/Danil/Documents/GitHub/LSTM-music-gen/data\\OneManArmy.mid\n",
      "Parsing c:/Users/Danil/Documents/GitHub/LSTM-music-gen/data\\OneMoreTime.mid\n",
      "Parsing c:/Users/Danil/Documents/GitHub/LSTM-music-gen/data\\Outlands.mid\n",
      "Parsing c:/Users/Danil/Documents/GitHub/LSTM-music-gen/data\\Outside.mid\n",
      "Parsing c:/Users/Danil/Documents/GitHub/LSTM-music-gen/data\\PaganPoetry.mid\n",
      "Parsing c:/Users/Danil/Documents/GitHub/LSTM-music-gen/data\\PartyRockAnthem(2).mid\n",
      "Parsing c:/Users/Danil/Documents/GitHub/LSTM-music-gen/data\\PartyRockAnthem.mid\n",
      "Parsing c:/Users/Danil/Documents/GitHub/LSTM-music-gen/data\\Phoenix.mid\n",
      "Parsing c:/Users/Danil/Documents/GitHub/LSTM-music-gen/data\\Poison.mid\n",
      "Parsing c:/Users/Danil/Documents/GitHub/LSTM-music-gen/data\\PossiblyMaybe.mid\n",
      "Parsing c:/Users/Danil/Documents/GitHub/LSTM-music-gen/data\\PraiseYou.mid\n",
      "Parsing c:/Users/Danil/Documents/GitHub/LSTM-music-gen/data\\Pray.mid\n",
      "Parsing c:/Users/Danil/Documents/GitHub/LSTM-music-gen/data\\Pyromania.mid\n",
      "Parsing c:/Users/Danil/Documents/GitHub/LSTM-music-gen/data\\RainOverMeFeatMarcAnthony.mid\n",
      "Parsing c:/Users/Danil/Documents/GitHub/LSTM-music-gen/data\\Recognizer.mid\n",
      "Parsing c:/Users/Danil/Documents/GitHub/LSTM-music-gen/data\\RespectYourself.mid\n",
      "Parsing c:/Users/Danil/Documents/GitHub/LSTM-music-gen/data\\RightHereRightNow.mid\n",
      "Parsing c:/Users/Danil/Documents/GitHub/LSTM-music-gen/data\\RobotRock.mid\n",
      "Parsing c:/Users/Danil/Documents/GitHub/LSTM-music-gen/data\\RockTheBeat.mid\n",
      "Parsing c:/Users/Danil/Documents/GitHub/LSTM-music-gen/data\\Sandstorm(meme).mid\n",
      "Parsing c:/Users/Danil/Documents/GitHub/LSTM-music-gen/data\\Sandstorm.mid\n",
      "Parsing c:/Users/Danil/Documents/GitHub/LSTM-music-gen/data\\SecretsOfLove.mid\n",
      "Parsing c:/Users/Danil/Documents/GitHub/LSTM-music-gen/data\\SexyAndIKnowIt.mid\n",
      "Parsing c:/Users/Danil/Documents/GitHub/LSTM-music-gen/data\\SexyBitch.mid\n",
      "Parsing c:/Users/Danil/Documents/GitHub/LSTM-music-gen/data\\ShadowsOfTheNight.mid\n",
      "Parsing c:/Users/Danil/Documents/GitHub/LSTM-music-gen/data\\ShortCircuit.mid\n",
      "Parsing c:/Users/Danil/Documents/GitHub/LSTM-music-gen/data\\Silhouettes.mid\n",
      "Parsing c:/Users/Danil/Documents/GitHub/LSTM-music-gen/data\\SmackMyBitchUp(2).mid\n",
      "Parsing c:/Users/Danil/Documents/GitHub/LSTM-music-gen/data\\SmackMyBitchUp.mid\n",
      "Parsing c:/Users/Danil/Documents/GitHub/LSTM-music-gen/data\\SomethingAboutUs.mid\n",
      "Parsing c:/Users/Danil/Documents/GitHub/LSTM-music-gen/data\\Spitfire.mid\n",
      "Parsing c:/Users/Danil/Documents/GitHub/LSTM-music-gen/data\\Summer.mid\n",
      "Parsing c:/Users/Danil/Documents/GitHub/LSTM-music-gen/data\\Sunshine.mid\n",
      "Parsing c:/Users/Danil/Documents/GitHub/LSTM-music-gen/data\\TakeControl.mid\n",
      "Parsing c:/Users/Danil/Documents/GitHub/LSTM-music-gen/data\\TakeYourChance.mid\n",
      "Parsing c:/Users/Danil/Documents/GitHub/LSTM-music-gen/data\\TelevisionRulesTheNation.mid\n",
      "Parsing c:/Users/Danil/Documents/GitHub/LSTM-music-gen/data\\TheDays.mid\n",
      "Parsing c:/Users/Danil/Documents/GitHub/LSTM-music-gen/data\\TheGrid (1).mid\n",
      "Parsing c:/Users/Danil/Documents/GitHub/LSTM-music-gen/data\\TheGrid.mid\n",
      "Parsing c:/Users/Danil/Documents/GitHub/LSTM-music-gen/data\\TheirLaw.mid\n",
      "Parsing c:/Users/Danil/Documents/GitHub/LSTM-music-gen/data\\TheresAParty.mid\n",
      "Parsing c:/Users/Danil/Documents/GitHub/LSTM-music-gen/data\\TheresMoreToLifeThanThis.mid\n",
      "Parsing c:/Users/Danil/Documents/GitHub/LSTM-music-gen/data\\TheSonOfFlyn.mid\n",
      "Parsing c:/Users/Danil/Documents/GitHub/LSTM-music-gen/data\\ThinkingAboutYou.mid\n",
      "Parsing c:/Users/Danil/Documents/GitHub/LSTM-music-gen/data\\Timber.mid\n",
      "Parsing c:/Users/Danil/Documents/GitHub/LSTM-music-gen/data\\Titanium.mid\n",
      "Parsing c:/Users/Danil/Documents/GitHub/LSTM-music-gen/data\\TooMuchOfHeaven.mid\n",
      "Parsing c:/Users/Danil/Documents/GitHub/LSTM-music-gen/data\\TronLegacyEndTitle.mid\n",
      "Parsing c:/Users/Danil/Documents/GitHub/LSTM-music-gen/data\\TrulyMadlyDeeply.mid\n",
      "Parsing c:/Users/Danil/Documents/GitHub/LSTM-music-gen/data\\Veridisquo.mid\n",
      "Parsing c:/Users/Danil/Documents/GitHub/LSTM-music-gen/data\\Viagiainsiemeame.mid\n",
      "Parsing c:/Users/Danil/Documents/GitHub/LSTM-music-gen/data\\Voyager.mid\n",
      "Parsing c:/Users/Danil/Documents/GitHub/LSTM-music-gen/data\\Waitingforlove.mid\n",
      "Parsing c:/Users/Danil/Documents/GitHub/LSTM-music-gen/data\\WakeMeUp.mid\n",
      "Parsing c:/Users/Danil/Documents/GitHub/LSTM-music-gen/data\\WakeUpCall.mid\n",
      "Parsing c:/Users/Danil/Documents/GitHub/LSTM-music-gen/data\\WeAreOne(OleOla).mid\n",
      "Parsing c:/Users/Danil/Documents/GitHub/LSTM-music-gen/data\\WhatAFeeling.mid\n",
      "Parsing c:/Users/Danil/Documents/GitHub/LSTM-music-gen/data\\WhatHurtsTheMost.mid\n",
      "Parsing c:/Users/Danil/Documents/GitHub/LSTM-music-gen/data\\WhatIsLove.mid\n",
      "Parsing c:/Users/Danil/Documents/GitHub/LSTM-music-gen/data\\WhenLoveTakesOverfeat.KellyRowland.mid\n",
      "Parsing c:/Users/Danil/Documents/GitHub/LSTM-music-gen/data\\WhereIsYourLove.mid\n",
      "Parsing c:/Users/Danil/Documents/GitHub/LSTM-music-gen/data\\WhosThatChickfeat.Rihanna.mid\n",
      "Parsing c:/Users/Danil/Documents/GitHub/LSTM-music-gen/data\\WindItUp.mid\n",
      "Parsing c:/Users/Danil/Documents/GitHub/LSTM-music-gen/data\\WithoutYou.mid\n",
      "Parsing c:/Users/Danil/Documents/GitHub/LSTM-music-gen/data\\YoullBeUnderMyWheels.mid\n",
      "Parsing c:/Users/Danil/Documents/GitHub/LSTM-music-gen/data\\YouLove.mid\n",
      "Parsing c:/Users/Danil/Documents/GitHub/LSTM-music-gen/data\\YouMakeMe.mid\n",
      "Parsing c:/Users/Danil/Documents/GitHub/LSTM-music-gen/data\\YourClown.mid\n"
     ]
    }
   ],
   "source": [
    "notes = []\n",
    "\n",
    "for file in glob.glob(\"c:/MIDIfile/directory/*.mid\"): # Specify MIDI file directory\n",
    "    midi = converter.parse(file)\n",
    "    print(\"Parsing %s\" % file)\n",
    "\n",
    "    notes_to_parse = None\n",
    "    try: # file has instrument parts\n",
    "        s2 = instrument.partitionByInstrument(midi)\n",
    "        notes_to_parse = s2.parts[0].recurse() \n",
    "    except: # file has notes in a flat structure\n",
    "        notes_to_parse = midi.flat.notes\n",
    "    for element in notes_to_parse:\n",
    "        if isinstance(element, note.Note):\n",
    "            notes.append(str(element.pitch))\n",
    "        elif isinstance(element, chord.Chord):\n",
    "            notes.append('.'.join(str(n) for n in element.normalOrder))\n",
    "\n",
    "with open('../notes', 'wb') as filepath:\n",
    "    pickle.dump(notes, filepath)"
   ]
  },
  {
   "cell_type": "code",
   "execution_count": 106,
   "metadata": {},
   "outputs": [],
   "source": [
    "# load the notes for consistency\n",
    "with open('../notes', 'rb') as filepath:\n",
    "    notes = pickle.load(filepath)"
   ]
  },
  {
   "attachments": {},
   "cell_type": "markdown",
   "metadata": {},
   "source": [
    "### Transform the notes sequences into the adequate input format for the LSTM model "
   ]
  },
  {
   "cell_type": "code",
   "execution_count": 108,
   "metadata": {},
   "outputs": [],
   "source": [
    "# get amount of pitch names\n",
    "n_vocab = len(set(notes))\n",
    "   \n",
    "# sequence length should be changed after experimenting with different numbers\n",
    "sequence_length = 300\n",
    "\n",
    "# get all pitch names\n",
    "pitchnames = sorted(set(item for item in notes))\n",
    "\n",
    "# create a dictionary to map pitches to integers\n",
    "note_to_int = dict((note, number) for number, note in enumerate(pitchnames))\n",
    "network_input = []\n",
    "network_output = []\n",
    "\n",
    "# create input sequences and the corresponding outputs\n",
    "for i in range(0, len(notes) - sequence_length, 1):\n",
    "    sequence_in = notes[i:i + sequence_length]\n",
    "    sequence_out = notes[i + sequence_length]\n",
    "    network_input.append([note_to_int[char] for char in sequence_in])\n",
    "    network_output.append(note_to_int[sequence_out])\n",
    "n_patterns = len(network_input)\n",
    "\n",
    "# reshape the input into a format compatible with LSTM layers\n",
    "network_input = numpy.reshape(network_input, (n_patterns, sequence_length, 1))\n",
    "\n",
    "# normalize input\n",
    "network_input = network_input / float(n_vocab)\n",
    "network_output = np_utils.to_categorical(network_output)"
   ]
  },
  {
   "attachments": {},
   "cell_type": "markdown",
   "metadata": {},
   "source": [
    "### Create the LSTM architechture"
   ]
  },
  {
   "cell_type": "code",
   "execution_count": 109,
   "metadata": {},
   "outputs": [],
   "source": [
    "model = Sequential() # initialize the sequntial model\n",
    "model.add(LSTM(512,input_shape=(network_input.shape[1], network_input.shape[2]),return_sequences=True)) # 512 units layer, preprocessd input data, all sequences are in the outputs for stacking each layer\n",
    "model.add(Dropout(0.3)) # tu prevent  overfitting 30% of the inputs are set to zero\n",
    "model.add(LSTM(512, return_sequences=True))\n",
    "model.add(Dropout(0.3))\n",
    "model.add(LSTM(512))\n",
    "model.add(Dense(256)) # connect every neuron among all layers and change the vector’s dimensions. \n",
    "model.add(Dropout(0.3))\n",
    "model.add(Dense(n_vocab))\n",
    "model.add(Activation('softmax')) # convert outputs to a probability range from 0 to 1\n",
    "model.compile(loss='categorical_crossentropy', optimizer='rmsprop') # categorical_crossentropy is efficient for multi-class classification problems, such as the labelling of many notes \n",
    "# rmsprop is a prominent optimizer "
   ]
  },
  {
   "cell_type": "code",
   "execution_count": 71,
   "metadata": {},
   "outputs": [
    {
     "name": "stdout",
     "output_type": "stream",
     "text": [
      "Model: \"sequential_1\"\n",
      "_________________________________________________________________\n",
      " Layer (type)                Output Shape              Param #   \n",
      "=================================================================\n",
      " lstm_3 (LSTM)               (None, 30, 512)           1052672   \n",
      "                                                                 \n",
      " dropout_3 (Dropout)         (None, 30, 512)           0         \n",
      "                                                                 \n",
      " lstm_4 (LSTM)               (None, 30, 512)           2099200   \n",
      "                                                                 \n",
      " dropout_4 (Dropout)         (None, 30, 512)           0         \n",
      "                                                                 \n",
      " lstm_5 (LSTM)               (None, 512)               2099200   \n",
      "                                                                 \n",
      " dense_2 (Dense)             (None, 256)               131328    \n",
      "                                                                 \n",
      " dropout_5 (Dropout)         (None, 256)               0         \n",
      "                                                                 \n",
      " dense_3 (Dense)             (None, 268)               68876     \n",
      "                                                                 \n",
      " activation_1 (Activation)   (None, 268)               0         \n",
      "                                                                 \n",
      "=================================================================\n",
      "Total params: 5,451,276\n",
      "Trainable params: 5,451,276\n",
      "Non-trainable params: 0\n",
      "_________________________________________________________________\n"
     ]
    }
   ],
   "source": [
    "# Model Summary\n",
    "model.summary()"
   ]
  },
  {
   "attachments": {},
   "cell_type": "markdown",
   "metadata": {},
   "source": [
    "### Train the Model"
   ]
  },
  {
   "cell_type": "code",
   "execution_count": 110,
   "metadata": {},
   "outputs": [
    {
     "name": "stdout",
     "output_type": "stream",
     "text": [
      "403/403 [==============================] - 25309s 63s/step - loss: 4.6071\n"
     ]
    },
    {
     "data": {
      "text/plain": [
       "<keras.callbacks.History at 0x15aa9f6d7c0>"
      ]
     },
     "execution_count": 110,
     "metadata": {},
     "output_type": "execute_result"
    }
   ],
   "source": [
    "# experiment with different epoch sizes and batch sizes\n",
    "model.fit(network_input, network_output, epochs=1, batch_size=256)"
   ]
  },
  {
   "attachments": {},
   "cell_type": "markdown",
   "metadata": {},
   "source": [
    "# **Generating the final midi_file**\n"
   ]
  },
  {
   "attachments": {},
   "cell_type": "markdown",
   "metadata": {},
   "source": [
    "###  Extrapolate notes through the Neural Network based on a random sequence of inputed notes"
   ]
  },
  {
   "cell_type": "code",
   "execution_count": 113,
   "metadata": {},
   "outputs": [],
   "source": [
    "# pick a random sequence from the input as a starting point for the prediction\n",
    "start = numpy.random.randint(0, len(network_input)-1)\n",
    "int_to_note = dict((number, note) for number, note in enumerate(pitchnames))\n",
    "pattern = network_input[start]\n",
    "prediction_output = []\n",
    "\n",
    "# generate 1000 notes\n",
    "for note_index in range(1000):\n",
    "    prediction_input = numpy.reshape(pattern, (1, len(pattern), 1))\n",
    "    prediction_input = prediction_input / float(n_vocab)\n",
    "    prediction = model.predict(prediction_input, verbose=0)\n",
    "    index = numpy.argmax(prediction) # numpy array of predictions\n",
    "    result = int_to_note[index] # indexing the note with the highest probability\n",
    "    prediction_output.append(result) # that note is the prediction output"
   ]
  },
  {
   "attachments": {},
   "cell_type": "markdown",
   "metadata": {},
   "source": [
    "### Converting the generated prediction into the new note sequence"
   ]
  },
  {
   "cell_type": "code",
   "execution_count": 114,
   "metadata": {},
   "outputs": [],
   "source": [
    "offset = 0\n",
    "output_notes = []\n",
    "# create note and chord objects based on the values generated by the model\n",
    "for pattern in prediction_output:\n",
    "    # pattern is a chord\n",
    "    if ('.' in pattern) or pattern.isdigit():\n",
    "        notes_in_chord = pattern.split('.')\n",
    "        notes = []\n",
    "        for current_note in notes_in_chord:\n",
    "            new_note = note.Note(int(current_note))\n",
    "            new_note.storedInstrument = instrument.SnareDrum()\n",
    "            notes.append(new_note)\n",
    "        new_chord = chord.Chord(notes)\n",
    "        new_chord.offset = offset\n",
    "        output_notes.append(new_chord)\n",
    "    # pattern is a note\n",
    "    else:\n",
    "        new_note = note.Note(pattern)\n",
    "        new_note.offset = offset\n",
    "        new_note.storedInstrument = instrument.SnareDrum()\n",
    "        output_notes.append(new_note)\n",
    "    # increase offset each iteration so that notes do not stack\n",
    "    offset += 0.5\n",
    "\n"
   ]
  },
  {
   "attachments": {},
   "cell_type": "markdown",
   "metadata": {},
   "source": [
    "### Create the midi_file using the new note sequence "
   ]
  },
  {
   "cell_type": "code",
   "execution_count": 115,
   "metadata": {},
   "outputs": [
    {
     "data": {
      "text/plain": [
       "'C:/Users/Danil/Documents/GitHub/LSTM-music-gen/generated_output/generate_midi_1ep_256batch.mid'"
      ]
     },
     "execution_count": 115,
     "metadata": {},
     "output_type": "execute_result"
    }
   ],
   "source": [
    "midi_stream = stream.Stream(output_notes)\n",
    "midi_stream.write('midi', fp='~/LSTM-music-gen/generated_output/generate_midi_1ep_256batch.mid') # Specify the output directory "
   ]
  },
  {
   "cell_type": "code",
   "execution_count": null,
   "metadata": {},
   "outputs": [],
   "source": []
  }
 ],
 "metadata": {
  "kernelspec": {
   "display_name": "base",
   "language": "python",
   "name": "python3"
  },
  "language_info": {
   "codemirror_mode": {
    "name": "ipython",
    "version": 3
   },
   "file_extension": ".py",
   "mimetype": "text/x-python",
   "name": "python",
   "nbconvert_exporter": "python",
   "pygments_lexer": "ipython3",
   "version": "3.8.5"
  },
  "orig_nbformat": 4
 },
 "nbformat": 4,
 "nbformat_minor": 2
}
